{
  "nbformat": 4,
  "nbformat_minor": 0,
  "metadata": {
    "colab": {
      "provenance": [],
      "authorship_tag": "ABX9TyOmjPoIhaS3+r9DGKGIz4k1",
      "include_colab_link": true
    },
    "kernelspec": {
      "name": "python3",
      "display_name": "Python 3"
    },
    "language_info": {
      "name": "python"
    }
  },
  "cells": [
    {
      "cell_type": "markdown",
      "metadata": {
        "id": "view-in-github",
        "colab_type": "text"
      },
      "source": [
        "<a href=\"https://colab.research.google.com/github/Lfirenzeg/msds602labs/blob/main/Final_Project_602.ipynb\" target=\"_parent\"><img src=\"https://colab.research.google.com/assets/colab-badge.svg\" alt=\"Open In Colab\"/></a>"
      ]
    },
    {
      "cell_type": "code",
      "execution_count": null,
      "metadata": {
        "id": "en7PcOraahfi"
      },
      "outputs": [],
      "source": []
    },
    {
      "cell_type": "markdown",
      "source": [
        "#  **Final Project**\n",
        "\n",
        "##  **Analysis of the CUNY SPS MSDS Program and Data Science Job Market Trends**\n",
        "### **Data 602**\n",
        "### **Luis Munoz Grass**"
      ],
      "metadata": {
        "id": "58zEisKDak99"
      }
    },
    {
      "cell_type": "code",
      "source": [],
      "metadata": {
        "id": "SSntl1lRa21f"
      },
      "execution_count": null,
      "outputs": []
    },
    {
      "cell_type": "markdown",
      "source": [
        "# **Abstract**\n",
        "\n",
        "Data science as a field continues to grow at an incredible speed, with organizations increasingly targeting professionals with a blend of technical expertise, programming proficiency, and essential soft skills. To remain competitive, academic programs must align their curriculum with the skills currently in demand by the industry and effectively advertise them to attract prospective students. This project examines whether the Master of Science in Data Science (MSDS) program offered by CUNY School of Professional Studies (SPS) advertises the skills most sought after in the data science job market.\n",
        "\n",
        "Using data scraped from major job platforms, the project categorized the most frequently requested skills into three groups: technical skills, programming languages, and soft skills. These findings were then compared to the skills explicitly advertised in the CUNY SPS MSDS program, based on the course descriptions available on the program’s official website. The analysis identified alignment in some key areas but also highlighted missed opportunities to showcase additional skills from the top 5 or top 10 lists in each category.\n",
        "\n",
        "This study underscores the importance of ensuring that the skills advertised in program descriptions align with current industry trends. A failure to explicitly highlight key competencies in publicly available materials may result in missed opportunities to attract top talent and adequately convey the program’s ability to prepare students for the challenges and demands of the evolving data science profession.\n",
        "\n"
      ],
      "metadata": {
        "id": "SPxLTaGqb8PT"
      }
    },
    {
      "cell_type": "markdown",
      "source": [
        "# **Introduction**\n",
        "\n",
        "### **Does the Master of Science in Data Science (MSDS) offered by CUNY SPS advertize the skills currently in demand in the job market for data science?**\n",
        "\n",
        "The idea for this project came from the realization that a program’s ability to attract students is not solely determined by the quality of its curriculum but also by how well it showcases its relevance to industry trends. By analyzing job postings from major platforms, the project identified the most frequently requested skills across three categories: technical skills, programming languages, and soft skills. These findings were then cross-referenced with the skills advertised in the MSDS program, based on publicly available course descriptions and the main program website.\n",
        "\n",
        "The project employs data scraping, cleaning, and analysis techniques to uncover insights about the alignment between the program’s advertised skills and the demands of the job market. By categorizing and comparing the skills, the study highlights both areas of strength and missed opportunities in the program’s advertising strategy. Ultimately, this analysis aims to provide actionable insights for program managers to enhance their outreach efforts, as well as to assist current and prospective students in making informed decisions about their education in the field of data science."
      ],
      "metadata": {
        "id": "b4kKxgKEkK_V"
      }
    },
    {
      "cell_type": "code",
      "source": [],
      "metadata": {
        "id": "Dks58tHikcpQ"
      },
      "execution_count": null,
      "outputs": []
    },
    {
      "cell_type": "markdown",
      "source": [
        "# **Data Wrangling**\n",
        "\n",
        "A Python program to scrap data from different job posts URLs (please see program in Github:\"https://github.com/Lfirenzeg/msds602labs/blob/main/Project/Skill_Search.py\"), and stored every entry in a .csv file.\n",
        "\n",
        "With a CSV file ready containing the list of skills for each job post we can proceed to organize the information a bit more.\n",
        "\n",
        "Load the needed libraries, and load the data, which in this case is hosted in GitHub\n",
        "\n",
        "We can see that we have 3 initial data sets:\n",
        "\n",
        "- **skills_df**: Which works as a sort of dictionary for skills and what category it belongs to.\n",
        "\n",
        "- **companies_skills_df**: Wich is the result of the data scrapped and stored in a .csv, with the columns: url, timestamp, skills, position, company and industry. However, it currently has no headers.\n",
        "\n",
        "- **masters_skills_df**: Which is the result of the data scrapped and stored from the masters website and curriculu, with the columns Course, Title, Required, Skills.\n",
        "\n",
        "We'll assign headers to the companies_skills_df table and remove some columns that are not necessary for the analysis, such as URL and Timestamp.\n",
        "\n",
        "Also, in order to facilitate the comparison we'll use 3 categories instead of 4 for the skills. In this case we'll merge Business Skills with Soft Skills.\n",
        "\n",
        "To organize the data a bit more, we'll be separating the companies_skills_df table into two separate tables:\n",
        "\n",
        "- **company_industry_table**: Focused on storing name of company and the industry it belongs to.\n",
        "\n",
        "- **skills_job_post**: Focused on storing main information we'll be working with: Position, skills and company.\n",
        "\n",
        "Finally, since our current list of skills in the table for job posts does not distinguish by category we'll split the column skills into 3, according to category of skill to facilitate analysis."
      ],
      "metadata": {
        "id": "t4f4TfBvkdgd"
      }
    },
    {
      "cell_type": "code",
      "source": [
        "# Required Libraries\n",
        "import pandas as pd\n",
        "import numpy as np\n",
        "import matplotlib.pyplot as plt\n",
        "import seaborn as sns\n",
        "from itertools import chain\n",
        "\n",
        "# Load the Data from GitHub\n",
        "skills_url = \"https://raw.githubusercontent.com/Lfirenzeg/msds602labs/refs/heads/main/Project/skills.csv\"\n",
        "companies_skills_url = \"https://raw.githubusercontent.com/Lfirenzeg/msds602labs/refs/heads/main/Project/companies_skills.csv\"\n",
        "masters_skills_url = \"https://raw.githubusercontent.com/Lfirenzeg/msds602labs/refs/heads/main/Project/MSDS_Course_Skills.csv\"\n",
        "\n",
        "# Load the CSV files into Pandas DataFrames\n",
        "skills_df = pd.read_csv(skills_url)\n",
        "companies_skills_df = pd.read_csv(companies_skills_url, header=None)\n",
        "masters_skills_df = pd.read_csv(masters_skills_url).fillna('NA')\n",
        "\n",
        "# Display the first few rows of each table to confirm data was loaded successfully\n",
        "print(skills_df.head())\n",
        "print(companies_skills_df.head())\n",
        "print(masters_skills_df.head())\n",
        "\n",
        "# Assign Headers to the Companies Skills DataFrame\n",
        "companies_skills_df.columns = [\"URL\", \"Timestamp\", \"Skills\", \"Position\", \"Company\", \"Industry\"]\n",
        "\n",
        "# Remove Unnecessary Columns\n",
        "companies_skills_df = companies_skills_df.drop(columns=[\"URL\", \"Timestamp\"])\n",
        "\n",
        "# Merge Business Skills and Soft Skills Categories\n",
        "skills_df[\"category\"] = skills_df[\"category\"].replace(\"Business Skills\", \"Soft Skills\")\n",
        "\n",
        "# Check Updated Table\n",
        "print(skills_df.head())\n",
        "\n",
        "# Split Companies Skills DataFrame into Two Separate Tables\n",
        "skills_job_post = companies_skills_df[[\"Position\", \"Skills\", \"Company\"]].copy()\n",
        "company_industry_table = companies_skills_df[[\"Company\", \"Industry\"]].drop_duplicates()\n",
        "\n",
        "# Create Lists of Skills by Category\n",
        "technical_skills_full_list = skills_df[skills_df[\"category\"] == \"Technical Skills\"][\"skill\"].tolist()\n",
        "programming_skills_full_list = skills_df[skills_df[\"category\"] == \"Programming Languages\"][\"skill\"].tolist()\n",
        "soft_skills_full_list = skills_df[skills_df[\"category\"] == \"Soft Skills\"][\"skill\"].tolist()\n",
        "\n",
        "# Helper Function to Extract Skills Based on Category\n",
        "def extract_skills(skill_list, category_list):\n",
        "    return \", \".join(set(skill_list).intersection(category_list))\n",
        "\n",
        "# Process Each Category in the Skills Job Post Table\n",
        "skills_job_post[\"Technical_Skills\"] = skills_job_post[\"Skills\"].apply(lambda x: extract_skills(str(x).split(\", \"), technical_skills_full_list))\n",
        "skills_job_post[\"Programming_Languages\"] = skills_job_post[\"Skills\"].apply(lambda x: extract_skills(str(x).split(\", \"), programming_skills_full_list))\n",
        "skills_job_post[\"Soft_Skills\"] = skills_job_post[\"Skills\"].apply(lambda x: extract_skills(str(x).split(\", \"), soft_skills_full_list))\n",
        "\n",
        "# Remove Original Skills Column\n",
        "skills_job_post = skills_job_post.drop(columns=[\"Skills\"])\n",
        "\n",
        "# View Updated Table\n",
        "print(skills_job_post.head())\n"
      ],
      "metadata": {
        "colab": {
          "base_uri": "https://localhost:8080/"
        },
        "id": "iQtsUEDkmcY1",
        "outputId": "3044159a-8773-478d-b82a-c44dd87cb415"
      },
      "execution_count": 11,
      "outputs": [
        {
          "output_type": "stream",
          "name": "stdout",
          "text": [
            "                skill               category\n",
            "0              Python  Programming Languages\n",
            "1                   R  Programming Languages\n",
            "2       Data Analysis       Technical Skills\n",
            "3      Data Wrangling       Technical Skills\n",
            "4  Data Visualization       Technical Skills\n",
            "                                                   0                 1  \\\n",
            "0  https://www.indeed.com/jobs?q=data+scientist&l...   10/8/2024 20:22   \n",
            "1  https://www.indeed.com/jobs?q=data+scientist&l...   10/8/2024 20:26   \n",
            "2  https://www.indeed.com/jobs?q=data+scientist&l...   10/8/2024 20:56   \n",
            "3  https://www.indeed.com/jobs?q=data+scientist&l...  10/10/2024 10:46   \n",
            "4  https://www.indeed.com/jobs?q=data+scientist&l...  10/10/2024 10:48   \n",
            "\n",
            "                                                   2  \\\n",
            "0  R, SQL, Python, Data Visualization, Machine Le...   \n",
            "1  R, SQL, Python, Data Analysis, Data Visualizat...   \n",
            "2  C, C++, SQL, Python, Data Analysis, Data Visua...   \n",
            "3  Python, Data Analysis, Data Visualization, Mac...   \n",
            "4  R, C, C++, SQL, Python, Data Visualization, Ma...   \n",
            "\n",
            "                                          3                      4  \\\n",
            "0  Senior Data Scientist, Decision Sciences          NBC Universal   \n",
            "1              Staff Data Scientist, Search                 Google   \n",
            "2            Customer Facing Data Scientist              Explorium   \n",
            "3                     Senior Data Scientist  West Coast Consulting   \n",
            "4                 Data Scientist, Corporate         Oak View Group   \n",
            "\n",
            "                         5  \n",
            "0  Media and Entertainment  \n",
            "1                     Tech  \n",
            "2                     Tech  \n",
            "3                     Tech  \n",
            "4        Sports and Events  \n",
            "         Course                                          Title Required  \\\n",
            "0  Main Website                         CUNY SPS MSDS Homepage       NA   \n",
            "1      DATA 602                Advanced Programming Techniques     True   \n",
            "2      DATA 605      Fundamentals of Computational Mathematics    False   \n",
            "3      DATA 606  Statistics and Probability for Data Analytics     True   \n",
            "4      DATA 607                Data Acquisition and Management     True   \n",
            "\n",
            "                                              Skills  \n",
            "0  R, SQL, Python, Machine Learning, Classificati...  \n",
            "1                      Machine Learning, Data Mining  \n",
            "2                                          Analytics  \n",
            "3                     Bayesian Statistics, Analytics  \n",
            "4                       Data Cleaning, Data Security  \n",
            "                skill               category\n",
            "0              Python  Programming Languages\n",
            "1                   R  Programming Languages\n",
            "2       Data Analysis       Technical Skills\n",
            "3      Data Wrangling       Technical Skills\n",
            "4  Data Visualization       Technical Skills\n",
            "                                   Position                Company  \\\n",
            "0  Senior Data Scientist, Decision Sciences          NBC Universal   \n",
            "1              Staff Data Scientist, Search                 Google   \n",
            "2            Customer Facing Data Scientist              Explorium   \n",
            "3                     Senior Data Scientist  West Coast Consulting   \n",
            "4                 Data Scientist, Corporate         Oak View Group   \n",
            "\n",
            "                                    Technical_Skills  \\\n",
            "0  Data Mining, Git, Relational Databases, Statis...   \n",
            "1  Statistical Analysis, Data Analysis, Data Visu...   \n",
            "2  Feature Engineering, Web Scraping, Tableau, Au...   \n",
            "3  Git, Data Analysis, Data Visualization, Machin...   \n",
            "4  Azure, Data Visualization, Statistical Analysi...   \n",
            "\n",
            "                               Programming_Languages  \\\n",
            "0                               Java, Python, SQL, R   \n",
            "1                                     Python, SQL, R   \n",
            "2             C++, SQL, Scikit-Learn, Python, Pandas   \n",
            "3                        Seaborn, Python, Matplotlib   \n",
            "4  C++, SQL, C#, TensorFlow, PyTorch, Scikit-Lear...   \n",
            "\n",
            "                                         Soft_Skills  \n",
            "0                     Leadership, Project Management  \n",
            "1                                  Critical Thinking  \n",
            "2                                  Critical Thinking  \n",
            "3                                                     \n",
            "4  Business Intelligence, Innovation, Communicati...  \n"
          ]
        }
      ]
    },
    {
      "cell_type": "markdown",
      "source": [
        "# **Exploratory Data Analysis**\n",
        "\n",
        "## **What skills are the most sought after?**\n",
        "\n",
        "Now that we have the skills_job_post table tidied to our liking, we can start creating smaller tables for summary data and analyse them. This will guide us in getting an idea of what are some of the most commonly requested skills in job posts.\n",
        "\n",
        "For this project we'll take a look at the skills based on 3 categories, technical skills, programming languages and soft skills.\n",
        "\n",
        "We can start by creating a summary table for **Technical Skills**:"
      ],
      "metadata": {
        "id": "WLPG1AUs6nHj"
      }
    },
    {
      "cell_type": "code",
      "source": [
        "# Analysis by Skill Category\n",
        "# Extract all technical skills from the \"Technical_Skills\" column\n",
        "all_technical_skills = list(chain.from_iterable([str(skills).split(\", \") for skills in skills_job_post[\"Technical_Skills\"]]))\n",
        "\n",
        "# Create a summary table that counts the occurrences of each technical skill\n",
        "technical_skills_summary = pd.DataFrame(pd.Series(all_technical_skills).value_counts()).reset_index()\n",
        "technical_skills_summary.columns = [\"Name\", \"Count\"]\n",
        "\n",
        "# Calculate the percentage of occurrences\n",
        "total_posts = 50  # Assuming there are 50 job posts\n",
        "technical_skills_summary[\"Percentage\"] = (technical_skills_summary[\"Count\"] / total_posts) * 100\n",
        "\n",
        "# Organize the table by Count in descending order\n",
        "technical_skills_summary = technical_skills_summary.sort_values(by=\"Count\", ascending=False)\n",
        "\n",
        "# Visualize the summary table\n",
        "print(technical_skills_summary)\n",
        "\n"
      ],
      "metadata": {
        "colab": {
          "base_uri": "https://localhost:8080/"
        },
        "id": "l6WLojfP6skI",
        "outputId": "8f18a53f-5b3f-4447-af42-4fec0846999c"
      },
      "execution_count": 12,
      "outputs": [
        {
          "output_type": "stream",
          "name": "stdout",
          "text": [
            "                     Name  Count  Percentage\n",
            "0        Machine Learning     50       100.0\n",
            "1                   Excel     39        78.0\n",
            "2             Data Mining     36        72.0\n",
            "3    Statistical Analysis     29        58.0\n",
            "4      Data Visualization     29        58.0\n",
            "..                    ...    ...         ...\n",
            "49        Shell Scripting      1         2.0\n",
            "47                 DevOps      1         2.0\n",
            "46  Quantitative Research      1         2.0\n",
            "45       Model Validation      1         2.0\n",
            "64   Time Series Analysis      1         2.0\n",
            "\n",
            "[65 rows x 3 columns]\n"
          ]
        }
      ]
    },
    {
      "cell_type": "markdown",
      "source": [
        "And if we want to visualize this using seaborn:"
      ],
      "metadata": {
        "id": "tsIltA6M62LF"
      }
    },
    {
      "cell_type": "code",
      "source": [
        "# Plot for Technical Skills\n",
        "# Select the top 10 technical skills\n",
        "top_10_tech_skills = technical_skills_summary.head(10)\n",
        "\n",
        "# Generate the plot\n",
        "plt.figure(figsize=(10, 6))\n",
        "sns.barplot(x=\"Count\", y=\"Name\", data=top_10_tech_skills, palette=\"Blues_d\")\n",
        "\n",
        "# Add percentage labels to the bars\n",
        "for index, row in top_10_tech_skills.iterrows():\n",
        "    plt.text(row.Count + 0.5, index, f\"{row.Percentage:.1f}%\", va='center', fontsize=10, color=\"white\")\n",
        "\n",
        "# Add plot labels and title\n",
        "plt.title(\"Top 10 Most Common Technical Skills\", fontsize=16)\n",
        "plt.xlabel(\"Count of Occurrences\", fontsize=14)\n",
        "plt.ylabel(\"Skills\", fontsize=14)\n",
        "plt.tight_layout()\n",
        "plt.show()"
      ],
      "metadata": {
        "colab": {
          "base_uri": "https://localhost:8080/",
          "height": 694
        },
        "id": "fWyN8ETR7ArF",
        "outputId": "68dac7e9-6ea1-4787-c473-a014668815ac"
      },
      "execution_count": 13,
      "outputs": [
        {
          "output_type": "stream",
          "name": "stderr",
          "text": [
            "<ipython-input-13-995d9d899f40>:7: FutureWarning: \n",
            "\n",
            "Passing `palette` without assigning `hue` is deprecated and will be removed in v0.14.0. Assign the `y` variable to `hue` and set `legend=False` for the same effect.\n",
            "\n",
            "  sns.barplot(x=\"Count\", y=\"Name\", data=top_10_tech_skills, palette=\"Blues_d\")\n"
          ]
        },
        {
          "output_type": "display_data",
          "data": {
            "text/plain": [
              "<Figure size 1000x600 with 1 Axes>"
            ],
            "image/png": "[encoded data removed]"
          },
          "metadata": {}
        }
      ]
    },
    {
      "cell_type": "markdown",
      "source": [
        "### **What does this tell us?**\n",
        "\n",
        "- Machine Learning emerges as the most valued skill, appearing in 100% of job postings (50 counts). Other significant skills include Excel (78%), Data Mining (72%), and Data Analysis (58%). This indicates that proficiency in traditional data manipulation and analysis tools remains vital for anyone planning to be in a data science role.\n",
        "\n",
        "- Deep Learning and Git also make the list, highlighting the relevance of newer technologies and version control in the data science field. This is significant as it shows a trend towards more complex modeling techniques and the importance of collaboration in projects.\n",
        "\n",
        "\n",
        "Now what do we find for **Programming Languages**?"
      ],
      "metadata": {
        "id": "QivRf6Kw7EZa"
      }
    },
    {
      "cell_type": "code",
      "source": [
        "# Extract all programming languages from the \"Programming_Languages\" column\n",
        "all_programming_skills = list(chain.from_iterable([str(skills).split(\", \") for skills in skills_job_post[\"Programming_Languages\"]]))\n",
        "\n",
        "# Create a summary table that counts the occurrences of each programming language\n",
        "programming_languages_summary = pd.DataFrame(pd.Series(all_programming_skills).value_counts()).reset_index()\n",
        "programming_languages_summary.columns = [\"Name\", \"Count\"]\n",
        "\n",
        "# Calculate the percentage of occurrences\n",
        "programming_languages_summary[\"Percentage\"] = (programming_languages_summary[\"Count\"] / total_posts) * 100\n",
        "\n",
        "# Organize the table by Count in descending order\n",
        "programming_languages_summary = programming_languages_summary.sort_values(by=\"Count\", ascending=False)\n",
        "\n",
        "# Visualize the summary table\n",
        "print(programming_languages_summary)"
      ],
      "metadata": {
        "colab": {
          "base_uri": "https://localhost:8080/"
        },
        "id": "JK_ci4Gi7Iqu",
        "outputId": "ec58d0bd-e050-435a-9336-b6917db8f2a4"
      },
      "execution_count": 14,
      "outputs": [
        {
          "output_type": "stream",
          "name": "stdout",
          "text": [
            "            Name  Count  Percentage\n",
            "0         Python     46        92.0\n",
            "1            SQL     46        92.0\n",
            "2              R     28        56.0\n",
            "3     TensorFlow     13        26.0\n",
            "4            C++      5        10.0\n",
            "5   Scikit-Learn      5        10.0\n",
            "6        PyTorch      5        10.0\n",
            "7         MATLAB      4         8.0\n",
            "8           Java      4         8.0\n",
            "9     Matplotlib      4         8.0\n",
            "12        Pandas      3         6.0\n",
            "10       Seaborn      3         6.0\n",
            "11         Keras      3         6.0\n",
            "13            C#      2         4.0\n",
            "14         MySQL      2         4.0\n",
            "15    PostgreSQL      2         4.0\n",
            "16                    2         4.0\n",
            "17       MongoDB      1         2.0\n",
            "18    JavaScript      1         2.0\n",
            "19         NoSQL      1         2.0\n",
            "20          Bash      1         2.0\n"
          ]
        }
      ]
    },
    {
      "cell_type": "markdown",
      "source": [
        "And the visual for programming languages:"
      ],
      "metadata": {
        "id": "vHY6LYrm70Xp"
      }
    },
    {
      "cell_type": "code",
      "source": [
        "# Plot for Programming Languages\n",
        "# Select the top 10 programming languages\n",
        "top_10_prog_skills = programming_languages_summary.head(10)\n",
        "\n",
        "# Generate the plot\n",
        "plt.figure(figsize=(10, 6))\n",
        "sns.barplot(x=\"Count\", y=\"Name\", data=top_10_prog_skills, palette=\"Reds_d\")\n",
        "\n",
        "# Add percentage labels to the bars\n",
        "for index, row in top_10_prog_skills.iterrows():\n",
        "    plt.text(row.Count + 0.5, index, f\"{row.Percentage:.1f}%\", va='center', fontsize=10, color=\"white\")\n",
        "\n",
        "# Add plot labels and title\n",
        "plt.title(\"Top 10 Most Common Programming Languages\", fontsize=16)\n",
        "plt.xlabel(\"Count of Occurrences\", fontsize=14)\n",
        "plt.ylabel(\"Skills\", fontsize=14)\n",
        "plt.tight_layout()\n",
        "plt.show()"
      ],
      "metadata": {
        "colab": {
          "base_uri": "https://localhost:8080/",
          "height": 694
        },
        "id": "qr-2z-Ja73bR",
        "outputId": "c8e744c8-0be6-49d6-9bd1-81f9aaa3384b"
      },
      "execution_count": 8,
      "outputs": [
        {
          "output_type": "stream",
          "name": "stderr",
          "text": [
            "<ipython-input-8-e75479cb22ff>:7: FutureWarning: \n",
            "\n",
            "Passing `palette` without assigning `hue` is deprecated and will be removed in v0.14.0. Assign the `y` variable to `hue` and set `legend=False` for the same effect.\n",
            "\n",
            "  sns.barplot(x=\"Count\", y=\"Name\", data=top_10_prog_skills, palette=\"Reds_d\")\n"
          ]
        },
        {
          "output_type": "display_data",
          "data": {
            "text/plain": [
              "<Figure size 1000x600 with 1 Axes>"
            ],
            "image/png": "[encoded data removed]"
          },
          "metadata": {}
        }
      ]
    },
    {
      "cell_type": "markdown",
      "source": [
        "### **What does this tell us?**\n",
        "\n",
        "- Python and SQL are the most sought-after programming languages, each appearing in 92% of job postings. The high count for these 2 languages aligns with current industry trends, suggesting that job seekers should prioritize learning these languages to remain competitive in the job market.\n",
        "\n",
        "- R appears in 56% of job postings, highlighting its relevance, particularly in statistical analysis and data visualization. While not as dominant as Python and SQL, it remains an important language for data scientists, especially those in academic or research-focused roles.\n",
        "\n",
        "Finally, let's take a look at **Soft Skills**:"
      ],
      "metadata": {
        "id": "A1Zok60r77RI"
      }
    },
    {
      "cell_type": "code",
      "source": [
        "# Extract all soft skills from the \"Soft_Skills\" column\n",
        "all_soft_skills = list(chain.from_iterable([str(skills).split(\", \") for skills in skills_job_post[\"Soft_Skills\"]]))\n",
        "\n",
        "# Create a summary table that counts the occurrences of each soft skill\n",
        "soft_skills_summary = pd.DataFrame(pd.Series(all_soft_skills).value_counts()).reset_index()\n",
        "soft_skills_summary.columns = [\"Name\", \"Count\"]\n",
        "\n",
        "# Calculate the percentage of occurrences\n",
        "soft_skills_summary[\"Percentage\"] = (soft_skills_summary[\"Count\"] / total_posts) * 100\n",
        "\n",
        "# Organize the table by Count in descending order\n",
        "soft_skills_summary = soft_skills_summary.sort_values(by=\"Count\", ascending=False)\n",
        "\n",
        "# Visualize the summary table\n",
        "print(soft_skills_summary)\n",
        "\n",
        "# Plot for Soft Skills\n",
        "# Select the top 10 soft skills\n",
        "top_10_soft_skills = soft_skills_summary.head(10)\n",
        "\n",
        "# Generate the plot\n",
        "plt.figure(figsize=(10, 6))\n",
        "sns.barplot(x=\"Count\", y=\"Name\", data=top_10_soft_skills, palette=\"Greens_d\")\n",
        "\n",
        "# Add percentage labels to the bars\n",
        "for index, row in top_10_soft_skills.iterrows():\n",
        "    plt.text(row.Count + 0.5, index, f\"{row.Percentage:.1f}%\", va='center', fontsize=10, color=\"white\")\n",
        "\n",
        "# Add plot labels and title\n",
        "plt.title(\"Top 10 Most Common Soft Skills\", fontsize=16)\n",
        "plt.xlabel(\"Count of Occurrences\", fontsize=14)\n",
        "plt.ylabel(\"Skills\", fontsize=14)\n",
        "plt.tight_layout()\n",
        "plt.show()"
      ],
      "metadata": {
        "colab": {
          "base_uri": "https://localhost:8080/",
          "height": 1000
        },
        "id": "gpauUSFt8BEN",
        "outputId": "e5d5923a-a33e-4898-ae3c-40231a62c298"
      },
      "execution_count": 15,
      "outputs": [
        {
          "output_type": "stream",
          "name": "stdout",
          "text": [
            "                           Name  Count  Percentage\n",
            "0                    Leadership     38        76.0\n",
            "1                 Communication     30        60.0\n",
            "2            Project Management     29        58.0\n",
            "3             Critical Thinking     26        52.0\n",
            "4                    Innovation     24        48.0\n",
            "5                 Collaboration     24        48.0\n",
            "6         Business Intelligence     17        34.0\n",
            "7           Attention to Detail      7        14.0\n",
            "8                     Mentoring      4         8.0\n",
            "9           Presentation Skills      3         6.0\n",
            "13              Problem Solving      2         4.0\n",
            "15  Data-Driven Decision Making      2         4.0\n",
            "14              Business Acumen      2         4.0\n",
            "12              Time Management      2         4.0\n",
            "11                     Teamwork      2         4.0\n",
            "10           Team Collaboration      2         4.0\n",
            "16                  Negotiation      1         2.0\n",
            "17                        Scrum      1         2.0\n",
            "18        Customer Segmentation      1         2.0\n",
            "19                 Adaptability      1         2.0\n",
            "20            Data Storytelling      1         2.0\n",
            "21                                   1         2.0\n",
            "22       Stakeholder Management      1         2.0\n",
            "23            Knowledge Sharing      1         2.0\n"
          ]
        },
        {
          "output_type": "stream",
          "name": "stderr",
          "text": [
            "<ipython-input-15-2b28339a0576>:23: FutureWarning: \n",
            "\n",
            "Passing `palette` without assigning `hue` is deprecated and will be removed in v0.14.0. Assign the `y` variable to `hue` and set `legend=False` for the same effect.\n",
            "\n",
            "  sns.barplot(x=\"Count\", y=\"Name\", data=top_10_soft_skills, palette=\"Greens_d\")\n"
          ]
        },
        {
          "output_type": "display_data",
          "data": {
            "text/plain": [
              "<Figure size 1000x600 with 1 Axes>"
            ],
            "image/png": "[encoded data removed]"
          },
          "metadata": {}
        }
      ]
    },
    {
      "cell_type": "markdown",
      "source": [
        "### **What does this tell us?**\n",
        "\n",
        "- As we can see in the plot, leadership is the most frequently mentioned soft skill, appearing in 76% of job postings. This could indicate that employers value leadership abilities in potential candidates, reflecting the need for individuals who can guide teams and projects effectively.\n",
        "\n",
        "- Communication skills are essential, as they appear in 60% of job postings. It's also interesting to see critical thinking (52%) and collaboration (48%), as this shows an interest in candidates that can both be team players but also analyze situations thoughtfully and develop solution more independently when needed.\n",
        "\n",
        "\n",
        "## **What skills are being advertised in the MSDS offered by CUNY SPS?**\n",
        "\n",
        "Let's now see what are the skills advertised for the Masters in Data Science offered by CUNY School of Professional Studies. The data was scrapped from the website and main curriculum, creating a CSV file listing the skills found in the main website and the description of each course.\n",
        "\n"
      ],
      "metadata": {
        "id": "y-xx9xrh8O6q"
      }
    },
    {
      "cell_type": "code",
      "source": [
        "# Explore Masters Skills DataFrame\n",
        "# Extract all skills mentioned in the 'masters_skills_df' file\n",
        "masters_skills_flat = list(chain.from_iterable([str(Skills).split(\", \") for Skills in masters_skills_df[\"Skills\"]]))\n",
        "\n",
        "# Create a summary table with counts of each skill\n",
        "masters_skills_summary = pd.DataFrame(pd.Series(masters_skills_flat).value_counts()).reset_index()\n",
        "masters_skills_summary.columns = [\"Skill\", \"Count\"]\n",
        "\n",
        "# Classify each skill into a category\n",
        "def classify_skill(skill):\n",
        "    if skill in technical_skills_full_list:\n",
        "        return \"Technical Skill\"\n",
        "    elif skill in programming_skills_full_list:\n",
        "        return \"Programming Language\"\n",
        "    elif skill in soft_skills_full_list:\n",
        "        return \"Soft Skill\"\n",
        "    else:\n",
        "        return None  # Skills without a category will be marked as None\n",
        "\n",
        "# Apply classification and drop rows where Category is None\n",
        "masters_skills_summary[\"Category\"] = masters_skills_summary[\"Skill\"].apply(classify_skill)\n",
        "masters_skills_summary = masters_skills_summary.dropna(subset=[\"Category\"])\n",
        "\n",
        "# Display the summary table\n",
        "print(masters_skills_summary)\n",
        "\n"
      ],
      "metadata": {
        "colab": {
          "base_uri": "https://localhost:8080/"
        },
        "id": "xz7XfY228QS3",
        "outputId": "ce2de6f2-c6ef-4cfb-b9f4-b71e78b4fb94"
      },
      "execution_count": 19,
      "outputs": [
        {
          "output_type": "stream",
          "name": "stdout",
          "text": [
            "                      Skill  Count              Category\n",
            "1          Machine Learning      4       Technical Skill\n",
            "4                         R      2  Programming Language\n",
            "5     Business Intelligence      2            Soft Skill\n",
            "6                  Big Data      2       Technical Skill\n",
            "7                    Hadoop      2       Technical Skill\n",
            "8                  Teamwork      2            Soft Skill\n",
            "9               Data Mining      2       Technical Skill\n",
            "10                   Python      2  Programming Language\n",
            "11       Hypothesis Testing      1       Technical Skill\n",
            "12        Critical Thinking      1            Soft Skill\n",
            "13     Time Series Analysis      1       Technical Skill\n",
            "14           Classification      1       Technical Skill\n",
            "15              Text Mining      1       Technical Skill\n",
            "16               Clustering      1       Technical Skill\n",
            "17  Artificial Intelligence      1       Technical Skill\n",
            "18                    Spark      1       Technical Skill\n",
            "19       Linear Programming      1       Technical Skill\n",
            "20            Collaboration      1            Soft Skill\n",
            "21            Data Security      1       Technical Skill\n",
            "22            Data Cleaning      1       Technical Skill\n",
            "23      Bayesian Statistics      1       Technical Skill\n",
            "24                      SQL      1  Programming Language\n",
            "25          Data Governance      1       Technical Skill\n",
            "26            Communication      1            Soft Skill\n",
            "27           Data Wrangling      1       Technical Skill\n"
          ]
        }
      ]
    },
    {
      "cell_type": "markdown",
      "source": [
        "And finally we can compare the skills from the masters dataframe and the companies dataframe."
      ],
      "metadata": {
        "id": "_ptx1u2TDy5E"
      }
    },
    {
      "cell_type": "code",
      "source": [
        "# Comparison of Skills\n",
        "# Define Relevance Based on Top Skills\n",
        "def determine_relevance(skill):\n",
        "    if skill in technical_skills_summary.head(5)[\"Name\"].tolist():\n",
        "        return \"Top 5 Technical\"\n",
        "    elif skill in technical_skills_summary.head(10)[\"Name\"].tolist():\n",
        "        return \"Top 10 Technical\"\n",
        "    elif skill in programming_languages_summary.head(5)[\"Name\"].tolist():\n",
        "        return \"Top 5 Programming\"\n",
        "    elif skill in programming_languages_summary.head(10)[\"Name\"].tolist():\n",
        "        return \"Top 10 Programming\"\n",
        "    elif skill in soft_skills_summary.head(5)[\"Name\"].tolist():\n",
        "        return \"Top 5 Soft\"\n",
        "    elif skill in soft_skills_summary.head(10)[\"Name\"].tolist():\n",
        "        return \"Top 10 Soft\"\n",
        "    else:\n",
        "        return \"Outside Top 10\"\n",
        "\n",
        "# Apply Relevance Determination\n",
        "masters_skills_summary[\"Relevance\"] = masters_skills_summary[\"Skill\"].apply(determine_relevance)\n",
        "\n",
        "# Drop unnecessary columns\n",
        "masters_skills_summary = masters_skills_summary[[\"Skill\", \"Count\", \"Category\", \"Relevance\"]]\n",
        "\n",
        "# Display the updated summary table\n",
        "print(masters_skills_summary)\n"
      ],
      "metadata": {
        "colab": {
          "base_uri": "https://localhost:8080/"
        },
        "id": "hiBsVw8yD5q1",
        "outputId": "c5017196-92e2-421b-a2d3-ca0980bdd720"
      },
      "execution_count": 22,
      "outputs": [
        {
          "output_type": "stream",
          "name": "stdout",
          "text": [
            "                      Skill  Count              Category          Relevance\n",
            "1          Machine Learning      4       Technical Skill    Top 5 Technical\n",
            "4                         R      2  Programming Language  Top 5 Programming\n",
            "5     Business Intelligence      2            Soft Skill        Top 10 Soft\n",
            "6                  Big Data      2       Technical Skill   Top 10 Technical\n",
            "7                    Hadoop      2       Technical Skill     Outside Top 10\n",
            "8                  Teamwork      2            Soft Skill     Outside Top 10\n",
            "9               Data Mining      2       Technical Skill    Top 5 Technical\n",
            "10                   Python      2  Programming Language  Top 5 Programming\n",
            "11       Hypothesis Testing      1       Technical Skill     Outside Top 10\n",
            "12        Critical Thinking      1            Soft Skill         Top 5 Soft\n",
            "13     Time Series Analysis      1       Technical Skill     Outside Top 10\n",
            "14           Classification      1       Technical Skill     Outside Top 10\n",
            "15              Text Mining      1       Technical Skill     Outside Top 10\n",
            "16               Clustering      1       Technical Skill     Outside Top 10\n",
            "17  Artificial Intelligence      1       Technical Skill   Top 10 Technical\n",
            "18                    Spark      1       Technical Skill     Outside Top 10\n",
            "19       Linear Programming      1       Technical Skill     Outside Top 10\n",
            "20            Collaboration      1            Soft Skill        Top 10 Soft\n",
            "21            Data Security      1       Technical Skill     Outside Top 10\n",
            "22            Data Cleaning      1       Technical Skill     Outside Top 10\n",
            "23      Bayesian Statistics      1       Technical Skill     Outside Top 10\n",
            "24                      SQL      1  Programming Language  Top 5 Programming\n",
            "25          Data Governance      1       Technical Skill     Outside Top 10\n",
            "26            Communication      1            Soft Skill         Top 5 Soft\n",
            "27           Data Wrangling      1       Technical Skill     Outside Top 10\n"
          ]
        }
      ]
    },
    {
      "cell_type": "markdown",
      "source": [
        "\n",
        "### **What about skills not being advertized?**"
      ],
      "metadata": {
        "id": "x_YpFNgBI6Wd"
      }
    },
    {
      "cell_type": "code",
      "source": [
        "# Find Top Skills Missing from Masters DataFrame\n",
        "# Combine top skills from each category\n",
        "top_technical = set(technical_skills_summary.head(10)[\"Name\"].tolist())\n",
        "top_programming = set(programming_languages_summary.head(10)[\"Name\"].tolist())\n",
        "top_soft = set(soft_skills_summary.head(10)[\"Name\"].tolist())\n",
        "\n",
        "# Extract skills from masters\n",
        "masters_skills_set = set(masters_skills_summary[\"Skill\"].tolist())\n",
        "\n",
        "# Identify missing skills\n",
        "missing_technical = top_technical - masters_skills_set\n",
        "missing_programming = top_programming - masters_skills_set\n",
        "missing_soft = top_soft - masters_skills_set\n",
        "\n",
        "# Create a table summarizing missing skills\n",
        "missing_skills = pd.DataFrame({\n",
        "    \"Category\": [\"Technical\"] * len(missing_technical) + [\"Programming\"] * len(missing_programming) + [\"Soft\"] * len(missing_soft),\n",
        "    \"Skill\": list(missing_technical) + list(missing_programming) + list(missing_soft)\n",
        "})\n",
        "\n",
        "# Display missing skills table\n",
        "print(missing_skills)"
      ],
      "metadata": {
        "colab": {
          "base_uri": "https://localhost:8080/"
        },
        "id": "Q6lJzcdbI7q3",
        "outputId": "402064dd-42a1-41a1-83a2-c4f9a1fcfdb9"
      },
      "execution_count": 23,
      "outputs": [
        {
          "output_type": "stream",
          "name": "stdout",
          "text": [
            "       Category                 Skill\n",
            "0     Technical         Deep Learning\n",
            "1     Technical                   Git\n",
            "2     Technical  Statistical Analysis\n",
            "3     Technical                 Excel\n",
            "4     Technical         Data Analysis\n",
            "5     Technical    Data Visualization\n",
            "6   Programming                   C++\n",
            "7   Programming            TensorFlow\n",
            "8   Programming               PyTorch\n",
            "9   Programming                MATLAB\n",
            "10  Programming          Scikit-Learn\n",
            "11  Programming                  Java\n",
            "12  Programming            Matplotlib\n",
            "13         Soft   Attention to Detail\n",
            "14         Soft             Mentoring\n",
            "15         Soft            Leadership\n",
            "16         Soft   Presentation Skills\n",
            "17         Soft            Innovation\n",
            "18         Soft    Project Management\n"
          ]
        }
      ]
    },
    {
      "cell_type": "markdown",
      "source": [
        "### **What does this tell us?\n",
        "\n",
        "Based solely on the description of program in its main website and the description found for each course in the Full Curryculum\n",
        "\n",
        "- Technical Skills: The master's program advertizes some top-5 technical skills like \"Machine Learning\" and \"Data Mining\". Regarding the top 10 (outside of top 5), while the program includes skills such as \"Big Data\" and \"Artificial Intelligence,\" it does not explicitly advertize others like \"Excel\" which is still highly valued in the industry. Data Visualization and Statistical Analysis were not included because of the wording, however, one could make the case that they are clearly advertized in the name of Data 606 \"Statistics and Probability for Data Analytics\" and Data 608 \"Knowledge and Visual Analytics\".\n",
        "\n",
        "- Programming Languages: Top programming languages like \"Python,\" \"SQL,\" and \"R\" are present, showing strong representation in this category. However, it misses the opportunity to advertize several libraries or tools such as \"TensorFlow\" or \"MATLAB\" that are often integral to several roles in Data Science.\n",
        "\n",
        "- Soft Skills: \"Critical Thinking\" and \"Communication\" are well-represented, indicating a focus on essential soft skills.\n",
        "\n",
        "- Many skills listed as \"Outside Top 10\" are niche but are still worth including in the description of the courses, such as \"Hypothesis Testing\" or \"Text Mining.\"\n",
        "\n"
      ],
      "metadata": {
        "id": "MX7I0VCUKdPb"
      }
    },
    {
      "cell_type": "markdown",
      "source": [
        "# **Conclusions**\n",
        "\n",
        "This project seeks to show the strengths and areas for improvement in how the CUNY SPS MSDS program advertises its curriculum in regards to the skills most sought after in the data science job market.\n",
        "\n",
        "**Alignment with Top Technical Skills:**\n",
        "\n",
        "The program does well in advertising key technical skills such as \"Machine Learning\" and \"Data Mining,\" which rank among the top 5 skills in demand. It also highlights \"Big Data\" and \"Artificial Intelligence,\" which are part of the top 10 technical skills. However, critical skills such as \"Data Visualization,\" \"Statistical Analysis,\" and \"Excel,\" which are essential in data manipulation and presentation, are not explicitly mentioned. While these skills may be covered within courses like Statistics and Probability for Data Analytics or Knowledge and Visual Analytics, their absence from course descriptions represents a missed opportunity to attract prospective students.\n",
        "\n",
        "**Programming Languages:**\n",
        "\n",
        "The program seems at it strongest in promoting foundational programming languages such as \"Python,\" \"SQL,\" and \"R,\" which are among the top 5 skills in this category. However, it does not showcase the use of advanced tools and libraries like \"TensorFlow,\" \"PyTorch,\" or \"MATLAB,\" which are increasingly integral to specialized data science roles. Including these in the curriculum descriptions could enhance the program’s appeal to candidates pursuing advanced roles in AI and machine learning.\n",
        "\n",
        "**Soft Skills Representation:**\n",
        "\n",
        "The program effectively highlights \"Critical Thinking\" and \"Communication,\" which are critical soft skills for data scientists. However, it does not emphasize other highly sought-after skills such as \"Leadership,\" \"Project Management,\" and \"Innovation.\" Explicitly incorporating these into course descriptions could better demonstrate the program’s commitment to holistic skill development.\n",
        "\n",
        "**Missed Advertising Opportunities:**\n",
        "\n",
        "While the program likely covers many of the missing skills in its full curriculum, by not explicitly mentioning on the webiste, it might miss prospective students who are considering programs based on skills they may have seen in job posts. Highlighting these skills in course descriptions, program overviews, and promotional materials could bridge the gap between curriculum content and market expectations.\n",
        "\n",
        "## **Recommendations**\n",
        "\n",
        "- Enhance Course Descriptions: Include explicit mentions of high-demand technical and programming skills, such as \"Data Visualization,\" \"Statistical Analysis,\" and advanced libraries like \"TensorFlow\" and \"PyTorch.\"\n",
        "\n",
        "- Regular Curriculum Updates: Check for  industry trends through periodic analysis of job market demands and match emerging skills into course offerings and descriptions.\n",
        "\n",
        "- Promote Niche Skills: Include niche but interesting skills like \"Text Mining,\" \"Hypothesis Testing,\" and \"Data Wrangling\" in marketing materials to demonstrate the program’s variety of skills covered.\n",
        "\n",
        "In conclusion, while the CUNY SPS MSDS program aligns well with some major industry requirements, greater transparency (perhaps promoting some of the specific course curriculum) and explicit advertising of skills could significantly improve its appeal to prospective students."
      ],
      "metadata": {
        "id": "fuomGDSnSBSC"
      }
    }
  ]
}